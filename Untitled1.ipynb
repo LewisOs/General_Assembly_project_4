{
 "cells": [
  {
   "cell_type": "markdown",
   "metadata": {},
   "source": [
    "## Overview"
   ]
  },
  {
   "cell_type": "markdown",
   "metadata": {},
   "source": [
    "Based on the feedback you received from your lightning talk, choose **one** of your topic areas to move forward. For Part 2, you'll need to collect, clean, and document the dataset(s) you intend to use for your project.\n",
    "\n",
    "This is not always a trivial task. Remember that data acquisition, transformation, and cleaning are typically the most time-consuming parts of data science projects, so don’t procrastinate!\n",
    "\n",
    "Once you have your data, read into it and review it to confirm whether it is as productive as you intended. If not, switch datasets, gather additional data (e.g. multiple datasets), or revise your project goals.\n",
    "\n",
    "Create your own database and data dictionary, then clean and munge your data as appropriate. Finally, document your work so far.\n",
    "\n",
    "**Goal**: Find the data you need for your project, clean, and document it."
   ]
  },
  {
   "cell_type": "markdown",
   "metadata": {},
   "source": [
    "## Requirements"
   ]
  },
  {
   "cell_type": "markdown",
   "metadata": {},
   "source": [
    "1. Find and Clean Your Data: Source and format the required data for your project.\n",
    "   - Create a database\n",
    "   - Create a data dictionary"
   ]
  },
  {
   "cell_type": "code",
   "execution_count": 2,
   "metadata": {},
   "outputs": [
    {
     "name": "stderr",
     "output_type": "stream",
     "text": [
      "/Users/lewis/opt/anaconda3/lib/python3.8/site-packages/requests/__init__.py:89: RequestsDependencyWarning: urllib3 (1.26.13) or chardet (3.0.4) doesn't match a supported version!\n",
      "  warnings.warn(\"urllib3 ({}) or chardet ({}) doesn't match a supported \"\n"
     ]
    }
   ],
   "source": [
    "# Imports\n",
    "import requests\n",
    "import bs4\n",
    "from bs4 import BeautifulSoup\n",
    "import numpy as np\n",
    "import pandas as pd\n",
    "import matplotlib.pyplot as plt"
   ]
  },
  {
   "cell_type": "code",
   "execution_count": 16,
   "metadata": {},
   "outputs": [
    {
     "name": "stdout",
     "output_type": "stream",
     "text": [
      "<!DOCTYPE html>\n",
      "<html lang=\"en-US\">\n",
      " <head>\n",
      "  <title>\n",
      "   Just a moment...\n",
      "  </title>\n",
      "  <meta content=\"text/html; charset=utf-8\" http-equiv=\"Content-Type\"/>\n",
      "  <meta content=\"IE=Edge\" http-equiv=\"X-UA-Compatible\"/>\n",
      "  <meta content=\"noindex,nofollow\" name=\"robots\"/>\n",
      "  <meta content=\"width=device-width,initial-scale=1\" name=\"viewport\"/>\n",
      "  <link href=\"/cdn-cgi/styles/challenges.css\" rel=\"stylesheet\"/>\n",
      " </head>\n",
      " <body class=\"no-js\">\n",
      "  <div class=\"main-wrapper\" role=\"main\">\n",
      "   <div class=\"main-content\">\n",
      "    <h1 class=\"zone-name-title h1\">\n",
      "     <img class=\"heading-favicon\" onerror=\"this.onerror=null;this.parentNode.removeChild(this)\" src=\"/favicon.ico\"/>\n",
      "     www.pets4homes.co.uk\n",
      "    </h1>\n",
      "    <h2 class=\"h2\" id=\"challenge-running\">\n",
      "     Checking if the site connection is secure\n",
      "    </h2>\n",
      "    <noscript>\n",
      "     <div id=\"challenge-error-title\">\n",
      "      <div class=\"h2\">\n",
      "       <span class=\"icon-wrapper\">\n",
      "        <div class=\"heading-icon warning-icon\">\n",
      "        </div>\n",
      "       </span>\n",
      "       <span id=\"challenge-error-text\">\n",
      "        Enable JavaScript and cookies to continue\n",
      "       </span>\n",
      "      </div>\n",
      "     </div>\n",
      "    </noscript>\n",
      "    <div id=\"trk_jschal_js\" style=\"display:none;background-image:url('/cdn-cgi/images/trace/managed/nojs/transparent.gif?ray=784db98fbd83159f')\">\n",
      "    </div>\n",
      "    <div class=\"core-msg spacer\" id=\"challenge-body-text\">\n",
      "     www.pets4homes.co.uk needs to review the security of your connection before proceeding.\n",
      "    </div>\n",
      "    <form action=\"/sale/puppies/local/local/page-2/?__cf_chl_f_tk=b3d5CTd7xKe0CXsRN4EYZSUQYPie.LJZqUWTeOuM1WE-1672937551-0-gaNycGzNB1E\" enctype=\"application/x-www-form-urlencoded\" id=\"challenge-form\" method=\"POST\">\n",
      "     <input name=\"md\" type=\"hidden\" value=\"oy1WiaO9dUMtnQXam4J66565ITxpYRlAuPZ3dq5b4L4-1672937551-0-AVc8_amyo2DJOCz4RE1ak2hcFA_yAajdJugntle8tJJXu1SeSOKVNiOR_3XhivNnhMoDvqP0O-jRMcf0Z0w9Nqu4UlrZAHMtBinDISItMuWsUiIUhuS6XrzFQmtmOjEXHA8qD-kwhhshkqQ6AUQMbGcp-pSS-44CbfDIJpY1bd1W7WntR-n0Y6Rza2WgS0QrkdqoKHnmO7LRR60PhvE9rHokfBnJ_a8oYEJ7RVIjf0sgdAun--mYg21JwhWD9_ScupELMPP7FR8BBP2nzGEJMGwaBrfSKo9UfNsKRIBNPtvjB8u9rjB5suCQqjDuEa9Eg2R2w2yw8iUClQJ6_8D6ox3ORbftddcbvntdSqE-NNZG5QYIAwmccTJgt8lk22gChWi0Ae4l-__f1ZzyLRr5BkN1e26AzfIF9FOxm6kwvePHCej9X0U7FgAMRV3Xqx0HSokS4E4Qd75NDbQuU9Je-Oc_0WF09pHjRJ9MRfuwc-hHvpVsIrm683jSngFq801V469ckOC9jSeadteg2L1skYMoKFQPjKY_QY0vktuhrnS5dkW2r0rf_cAxF6et9jPS8f4ebfne5tN_Sw3KTfisL1Imn2Gr190-5dyS4ImukqC8slcrKaIigfng4ksC1qggzK78hqZTAbdyGH0oegl6WzE\"/>\n",
      "     <input name=\"r\" type=\"hidden\" value=\"izY4Vt3cUoLqsveh62G3GycyEzLeOOZadLlJIdF7d7c-1672937551-0-AQkATBV4hC0499AyanL/9IRmiDh1e8+fPeoeorypp+iPdJvG8imxPTSHQHcQL7EyObjovd+WxKbCeCTMX23bnATE/cnYZWgH1BOuT1fwX+sR2FM8NaauiOdHcxO/FAAt5cDdypyNhwWfGY6X7TwilHkc41ltaSEDhOa80eWYorpiJnwFVsgC31FogrIzAuAKrxx/UsT1xrYIcBAQkCEiwEFWFywxmn6iJVUD4J1ZJBV3ZV8rnrx2i4JpB+M9OyFTuGo7gcB2Is3/NfxgL3+iWijtFq5xR9lS3aKMeIfYtA1HcMXhtsMOY/gpuP2HYPu/kAiUDnE13vEkKfB51PJ2zQaMfMoKSIg2PaTZ80OYjizApjE4Eruhq6+ywKRrE+6myqfLHbImGii9obJyLYyAD0WfSaUuudHy1bbJF3paILD58eK/tM+u1jp5957V1/MkyrR7tvzwAqkgl1POdVqQBC2A9itFGegXzviaTpPs5IlPo2x1OWtdX1w5ZelfCgJLKcewwEY3BNEAQShwfpkwim5fGHcTAMhI1swsMwxL3bJP1r8gIZS6jjmMRI+rVOOfBQ7bndRcnD2dPgPzSOst2XITpfdUs8exsr+KYKSNUv2zWb2P/JeDzCjjDEhL91yN2pzD9yus52htNsPiinVCaKokPYqaGFhK5kQYlJNrmGXR4JFWx4pI3xDz41m4cQ6d8Y53lmWgNYov8kjKs9OrffxAWn/rddtLnU3V1d2FUZakpdKbVQBB3xHrFUZR/jj2oiiZ4XCE4BKRLaSNqNg6/E0TWTWvkE6SnP/7SQCmz78jPtdi/wB5Eao155pHs7QA+VPHqIUQ9WF80Zq0A7wPIBilOK+QZgSu3oqPKkgpKwYxeqN0NPPR8smnKzmrcs7a0WCqHXG6w3xhbVX16Xi56mdp/bGW/4ewgZ7cUB+1BpfjX5jcDxzVqHidPFRuGX8Ib1L99RzoFLD//tifR26lqkysq3UIf/lI5ZLvOCoPwKV3JqFPiAdBho6mcW3wgqijAKGZ991YRydHIkZpNmwPrHcm5Dt0q/dLAv4u4+lt55MPaIRcyS6orvt6q4WjmiQ0/fiXjquMq2tzQPiY/GmeP/H72kyeBQfZzBC9ZeuHGYIzmL31siDo2wvMqY8U/Frs7Kyg09GbZ/OxlUHiuJ1m9q9oX/EzOVzz/mHUgCz3i3qcRNB92/qa0MAZci+rdLZKawH0iW3qkxJZXLHQbKnG41GEsdBYL9PhVkLSEvJNgnTxXfXA4V4ahqH8OWIrX5WQQgbRuy1hu88kGCcs/sQZ4mS+o8FtijqRzM4Gl2s1bzLYmEs4s0E+OmZdWcyDY8xO/BAmLALhD9toTXr6/eN+Pvs5gbamHFNpe4wyM54lf8TG8Qb/KJE1lpBqEecoSObpZYBjSBm4nwkJXc7FIeWT4eUebOdAYiRhNTB0l9dYg6PaGNcOS3iue53oK+NJLZmF7OlThUoLrlxfwK1Y9viuyh11ILXHHd6LRBbCGFT6lOCeq67QVKKyb72q+AN8wE9r+VG0EU4eXMxtaelZOJE1tVfCu7dqX8padDBDbXtaPY4Yc7fji96LbfmuHfTkn5JMmvlgtEb5RrVHqw+TPvc+naYSIrnYvO4AR/4S9l8i0NyyYva5nn/hgSSy0G/XP9yqdOrHSm8hvFHGQbWHVDTkKDYSPvXer1rU8g3Huy2I2Ex6qeBlviZzCHFy+b5EsGe1Z9CEvL7BIYXJvGxkhWPd7uWKXghDB5XtbD97+nBR1Eac+OE2BeQb/l3SIjAOx3vov5MwStVT3B9gMtqIKW4y0b8=\"/>\n",
      "    </form>\n",
      "   </div>\n",
      "  </div>\n",
      "  <script>\n",
      "   (function(){\n",
      "        window._cf_chl_opt={\n",
      "            cvId: '2',\n",
      "            cType: 'managed',\n",
      "            cNounce: '93724',\n",
      "            cRay: '784db98fbd83159f',\n",
      "            cHash: '847e386c61511c3',\n",
      "            cUPMDTk: \"\\/sale\\/puppies\\/local\\/local\\/page-2\\/?__cf_chl_tk=b3d5CTd7xKe0CXsRN4EYZSUQYPie.LJZqUWTeOuM1WE-1672937551-0-gaNycGzNB1E\",\n",
      "            cFPWv: 'b',\n",
      "            cTTimeMs: '1000',\n",
      "            cTplV: 4,\n",
      "            cTplB: 'cf',\n",
      "            cRq: {\n",
      "                ru: 'aHR0cHM6Ly93d3cucGV0czRob21lcy5jby51ay9zYWxlL3B1cHBpZXMvbG9jYWwvbG9jYWwvcGFnZS0yLw==',\n",
      "                ra: 'cHl0aG9uLXJlcXVlc3RzLzIuMjQuMA==',\n",
      "                rm: 'R0VU',\n",
      "                d: 'WvCpVTG7BplfRfS84DpueZPAoCqhG5teH2KAA7kNct7kiXJIMADoMKtrSsw+HmHNgeMAhc/QwyG8uZkEf7MZiCO1NfUPQWKKvXi/uCvcra2ZQlA0Zqlr9C9NhooEPCiy65zoH/1wGWRgT5vk3B5/Nyjr0utVIaDx0sZElLqFB06lZHEubnpCoQ4JsrFPQKBjSzktx3p7IGwBpeataPuvovmBklarveFCFTg0gWPek7Dx/08HoNl8WnCKKGR69a/dsLVYtm0LLV+QsuE0THgO4zMdwYwzv0XBZhVLnqWZ/UVelqqcZLv8bQAf+ZOblbLknzFEz/5fnhFrAJLw9RkmAnZt4F0Q6R7J01pD3XRGVz5n7iNb+OaJNqIB7Q3XYMZxEoNJqu7LlLvA23OH9ED4eNK31O/VIT80IxA5HsmqDIOkrrWdI6crO29nriJm8A7IS6RqqpjHQQW4n9J3HxpRu9Efc8qxiRflW4KwOAioy2B0CnXhrXfcC5+XjPcPEHZ1h0+LHAu5bvnJq7N9HwRnv6qoM49LCxUaQuzWcpwrr9S0f2JOfTNy1fFSOhTRVTA9Nr6oGSKeBdjXBbzCSxcvPL3IuI6+VODgHO4tClLCH6nvL9KaTafo/pufNYAtaMvj7SpVQxUZtJUgbecUNu0F/6zWkbOWwb3i+AZB7IzoSrOM1V4TwbsCCMMJEftPdQu3frUtE3RbJTP/uJUwCOinDQ==',\n",
      "                t: 'MTY3MjkzNzU1MS4zMjUwMDA=',\n",
      "                m: 'smlei+yG95+/Wjd8OP58wuznUbD08y+QEFN/bKg35bU=',\n",
      "                i1: 'dyXEeWY2whAov5cyPlqg3w==',\n",
      "                i2: 'GanIdysFviah9cZWvAs9bQ==',\n",
      "                zh: 'r97EzvccDGZEDgtFHZySd15ZBqAyBQrEERoyM/6+YGo=',\n",
      "                uh: '6AZv5/FBI8bCgQ115dPTZ5RPLfsmzGOqXp7x0al4Jbc=',\n",
      "                hh: 'xl8YkkXw9Uhs5HahyupdgNC6Sn/iDbIv2bL/1PcpGUg=',\n",
      "            }\n",
      "        };\n",
      "        var trkjs = document.createElement('img');\n",
      "        trkjs.setAttribute('src', '/cdn-cgi/images/trace/managed/js/transparent.gif?ray=784db98fbd83159f');\n",
      "        trkjs.setAttribute('style', 'display: none');\n",
      "        document.body.appendChild(trkjs);\n",
      "        var cpo = document.createElement('script');\n",
      "        cpo.src = '/cdn-cgi/challenge-platform/h/b/orchestrate/managed/v1?ray=784db98fbd83159f';\n",
      "        window._cf_chl_opt.cOgUHash = location.hash === '' && location.href.indexOf('#') !== -1 ? '#' : location.hash;\n",
      "        window._cf_chl_opt.cOgUQuery = location.search === '' && location.href.slice(0, -window._cf_chl_opt.cOgUHash.length).indexOf('?') !== -1 ? '?' : location.search;\n",
      "        if (window.history && window.history.replaceState) {\n",
      "            var ogU = location.pathname + window._cf_chl_opt.cOgUQuery + window._cf_chl_opt.cOgUHash;\n",
      "            history.replaceState(null, null, \"\\/sale\\/puppies\\/local\\/local\\/page-2\\/?__cf_chl_rt_tk=b3d5CTd7xKe0CXsRN4EYZSUQYPie.LJZqUWTeOuM1WE-1672937551-0-gaNycGzNB1E\" + window._cf_chl_opt.cOgUHash);\n",
      "            cpo.onload = function() {\n",
      "                history.replaceState(null, null, ogU);\n",
      "            };\n",
      "        }\n",
      "        document.getElementsByTagName('head')[0].appendChild(cpo);\n",
      "    }());\n",
      "  </script>\n",
      "  <div class=\"footer\" role=\"contentinfo\">\n",
      "   <div class=\"footer-inner\">\n",
      "    <div class=\"clearfix diagnostic-wrapper\">\n",
      "     <div class=\"ray-id\">\n",
      "      Ray ID:\n",
      "      <code>\n",
      "       784db98fbd83159f\n",
      "      </code>\n",
      "     </div>\n",
      "    </div>\n",
      "    <div class=\"text-center\">\n",
      "     Performance &amp; security by\n",
      "     <a href=\"https://www.cloudflare.com?utm_source=challenge&amp;utm_campaign=m\" rel=\"noopener noreferrer\" target=\"_blank\">\n",
      "      Cloudflare\n",
      "     </a>\n",
      "    </div>\n",
      "   </div>\n",
      "  </div>\n",
      " </body>\n",
      "</html>\n",
      "\n"
     ]
    }
   ],
   "source": [
    "url = 'https://www.pets4homes.co.uk/sale/puppies/local/local/page-2/'\n",
    "html = requests.get(url)\n",
    "\n",
    "soup = BeautifulSoup(html.text, 'html.parser')\n",
    "print(soup.prettify())"
   ]
  },
  {
   "cell_type": "code",
   "execution_count": 18,
   "metadata": {},
   "outputs": [
    {
     "name": "stderr",
     "output_type": "stream",
     "text": [
      "IOPub data rate exceeded.\n",
      "The notebook server will temporarily stop sending output\n",
      "to the client in order to avoid crashing it.\n",
      "To change this limit, set the config variable\n",
      "`--NotebookApp.iopub_data_rate_limit`.\n",
      "\n",
      "Current values:\n",
      "NotebookApp.iopub_data_rate_limit=1000000.0 (bytes/sec)\n",
      "NotebookApp.rate_limit_window=3.0 (secs)\n",
      "\n"
     ]
    }
   ],
   "source": [
    "path = '/Users/lewis/Desktop/Pets4homes_html.rtf'\n",
    "\n",
    "with open(path) as f:\n",
    "    html = f.read()\n",
    "\n",
    "soup = BeautifulSoup(html, 'html.parser')\n",
    "print(soup.prettify())"
   ]
  },
  {
   "cell_type": "code",
   "execution_count": 14,
   "metadata": {},
   "outputs": [
    {
     "data": {
      "text/plain": [
       "[]"
      ]
     },
     "execution_count": 14,
     "metadata": {},
     "output_type": "execute_result"
    }
   ],
   "source": [
    "soup.find_all(class_='cb Um')"
   ]
  },
  {
   "cell_type": "markdown",
   "metadata": {},
   "source": [
    "2. Perform preliminary data munging and cleaning of your data: organize your data relevant to your project goals.\n",
    "   - Review data to verify initial assumptions\n",
    "   - Clean and munge data as necessary"
   ]
  },
  {
   "cell_type": "markdown",
   "metadata": {},
   "source": [
    "3. Describe your data: keep your intended audience(s) in mind.\n",
    "   - Document your work so far in a Jupyter notebook."
   ]
  },
  {
   "cell_type": "markdown",
   "metadata": {},
   "source": [
    "#### Bonus\n",
    "\n",
    "4. Document your project goals (revise from your initial pitch)\n",
    "   - Articulate “Specific aim”\n",
    "   - Outline proposed methods and models\n",
    "   - Define risks & assumptions"
   ]
  },
  {
   "cell_type": "markdown",
   "metadata": {},
   "source": [
    "5. Create a blog post of at least 500 words that describes your work so far. Link to it in your Jupyter notebook."
   ]
  }
 ],
 "metadata": {
  "kernelspec": {
   "display_name": "Python 3",
   "language": "python",
   "name": "python3"
  },
  "language_info": {
   "codemirror_mode": {
    "name": "ipython",
    "version": 3
   },
   "file_extension": ".py",
   "mimetype": "text/x-python",
   "name": "python",
   "nbconvert_exporter": "python",
   "pygments_lexer": "ipython3",
   "version": "3.8.3"
  }
 },
 "nbformat": 4,
 "nbformat_minor": 4
}
